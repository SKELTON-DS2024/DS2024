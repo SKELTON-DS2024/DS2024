{
  "nbformat": 4,
  "nbformat_minor": 0,
  "metadata": {
    "colab": {
      "provenance": []
    },
    "kernelspec": {
      "name": "python3",
      "display_name": "Python 3"
    },
    "language_info": {
      "name": "python"
    }
  },
  "cells": [
    {
      "cell_type": "code",
      "execution_count": null,
      "metadata": {
        "colab": {
          "base_uri": "https://localhost:8080/"
        },
        "id": "_ha3TckU5Xdj",
        "outputId": "d3975373-d881-498d-e219-ff3ea68d8286"
      },
      "outputs": [
        {
          "output_type": "stream",
          "name": "stdout",
          "text": [
            "['Q2', 'Q3', 'Q4', 'Q5', 'Q8', 'Q9']\n"
          ]
        }
      ],
      "source": [
        "question = ['Q2', 'Q3', 'Q4', 'Q5', 'Q6_1', 'Q6_2', 'Q6_3', 'Q6_4', 'Q6_5', 'Q6_6',\n",
        "       'Q6_7', 'Q6_8', 'Q6_9', 'Q6_10', 'Q6_11', 'Q6_12', 'Q7_1', 'Q7_2',\n",
        "       'Q7_3', 'Q7_4', 'Q7_5', 'Q7_6', 'Q7_7', 'Q8', 'Q9', 'Q10_1', 'Q10_2',\n",
        "       'Q10_3']\n",
        "\n",
        "answer = []\n",
        "for q in question:\n",
        "  if q.find('_') < 0:\n",
        "    answer.append(q)\n",
        "\n",
        "print(answer)"
      ]
    }
  ]
}