{
 "cells": [
  {
   "cell_type": "markdown",
   "metadata": {
    "id": "mKtvPycogs4D"
   },
   "source": [
    "#https://www.boostcourse.org/study-ds112-2024/lecture/1542448?isDesc=false"
   ]
  },
  {
   "cell_type": "code",
   "execution_count": 1,
   "metadata": {
    "colab": {
     "base_uri": "https://localhost:8080/"
    },
    "id": "7kAkphO5fki7",
    "outputId": "242cd084-7d85-4858-ea1d-53d749384611"
   },
   "outputs": [
    {
     "name": "stdout",
     "output_type": "stream",
     "text": [
      "Country  Canada  France  Germany  Great Britain  Japan   USA\n",
      "Year                                                        \n",
      "2011       81.4    82.3     80.5           81.0   82.7  78.7\n",
      "2012       81.6    82.1     80.6           81.0   83.2  78.8\n",
      "2013       81.7    82.3     80.6           81.1   83.4  78.8\n",
      "2014       81.8    82.8     81.2           81.4   83.7  78.9\n",
      "2015       81.9    82.4     80.7           81.0   83.9  78.7\n",
      "2016       82.0    82.7     81.0           81.2   84.1  78.7\n",
      "2017       81.9    82.7     81.1           81.3   84.2  78.6\n",
      "2018       82.0    82.8     81.0           81.3   84.3  78.7\n",
      "2019       82.2    82.9     81.3           81.4   84.4  78.8\n",
      "2020       81.7    82.3     81.1           80.4   84.7  77.0\n"
     ]
    }
   ],
   "source": [
    "import pandas as pd\n",
    "\n",
    "# 데이터 불러오기\n",
    "df = pd.read_csv(\"https://raw.githubusercontent.com/mwaskom/seaborn-data/master/healthexp.csv\")\n",
    "\n",
    "# 2011년도 이후의 데이터 필터링\n",
    "df_filtered = df[df['Year'] >= 2011]\n",
    "\n",
    "# 연도별 및 국가별로 데이터 피벗\n",
    "df_pivot = df_filtered.pivot(index='Year', columns='Country', values='Life_Expectancy')\n",
    "\n",
    "# 결과 출력\n",
    "print(df_pivot)"
   ]
  },
  {
   "cell_type": "code",
   "execution_count": null,
   "metadata": {},
   "outputs": [],
   "source": []
  }
 ],
 "metadata": {
  "colab": {
   "provenance": []
  },
  "kernelspec": {
   "display_name": "Python 3 (ipykernel)",
   "language": "python",
   "name": "python3"
  },
  "language_info": {
   "codemirror_mode": {
    "name": "ipython",
    "version": 3
   },
   "file_extension": ".py",
   "mimetype": "text/x-python",
   "name": "python",
   "nbconvert_exporter": "python",
   "pygments_lexer": "ipython3",
   "version": "3.12.4"
  }
 },
 "nbformat": 4,
 "nbformat_minor": 4
}
